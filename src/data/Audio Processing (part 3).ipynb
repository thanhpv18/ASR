{
 "cells": [
  {
   "cell_type": "markdown",
   "id": "standard-music",
   "metadata": {},
   "source": [
    "From [third part of speech Processing series](https://towardsdatascience.com/audio-deep-learning-made-simple-part-3-data-preparation-and-augmentation-24c6e1f6b52)"
   ]
  },
  {
   "cell_type": "markdown",
   "id": "timely-violin",
   "metadata": {},
   "source": [
    "``Enhance Spectrograms features from optimal performance by hyper-parameter tuning and data augmentation``"
   ]
  },
  {
   "cell_type": "markdown",
   "id": "extreme-sense",
   "metadata": {},
   "source": [
    "### Fast Fourier Transform (FFT)\n",
    "- One way to compute Fourier Transforms is by using a technique called DFT (Discrete Fourier Transform). DFT is very expensive to compute, so in practice, the FFT (Fast Fourier Transform) algorithm is used, which is an efficient way to implement the DFT.\n",
    "- FFT will give the overall frequency components for the entire series of the audio signal as a whole. It won't tell you how those frequency components change over time within the audio signal. It is not able to see, for example, that the first part of the audio has high frequencies while the second part had low frequencies, and so on."
   ]
  },
  {
   "cell_type": "markdown",
   "id": "fleet-revelation",
   "metadata": {},
   "source": [
    "### Short-time Fourier Transform (STFT)\n",
    "- To see the frequency variations over time, we use STFT algorithm.\n",
    "- STFT is another variant of the Fourier Transform that breaks up the audio signal into smaller sections by using a sliding time window. It takes the FFT on each section and then combine them $\\Rightarrow$ ``capture the variations of the frequency with time``\n",
    "<img src=\"./images/stft.png\">\n",
    "- Steps:\n",
    "    1. Split the signal into sections along the Time axis\n",
    "    2. Split the signal into sections along the Frequency axis\n",
    "    3. Take the full range of frequencies and devides it up into equally spaced bands (in the Mel scale)\n",
    "    4. For each section of time, calculate the Amplitude or energy for each frequency band"
   ]
  },
  {
   "cell_type": "code",
   "execution_count": null,
   "id": "under-language",
   "metadata": {},
   "outputs": [],
   "source": []
  },
  {
   "cell_type": "code",
   "execution_count": null,
   "id": "initial-representative",
   "metadata": {},
   "outputs": [],
   "source": []
  },
  {
   "cell_type": "code",
   "execution_count": null,
   "id": "continental-uruguay",
   "metadata": {},
   "outputs": [],
   "source": []
  },
  {
   "cell_type": "markdown",
   "id": "descending-rhythm",
   "metadata": {},
   "source": []
  }
 ],
 "metadata": {
  "kernelspec": {
   "display_name": "Python 3",
   "language": "python",
   "name": "python3"
  },
  "language_info": {
   "codemirror_mode": {
    "name": "ipython",
    "version": 3
   },
   "file_extension": ".py",
   "mimetype": "text/x-python",
   "name": "python",
   "nbconvert_exporter": "python",
   "pygments_lexer": "ipython3",
   "version": "3.7.10"
  }
 },
 "nbformat": 4,
 "nbformat_minor": 5
}
