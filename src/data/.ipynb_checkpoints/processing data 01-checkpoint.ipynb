{
 "cells": [
  {
   "cell_type": "markdown",
   "id": "affiliated-valentine",
   "metadata": {},
   "source": [
    "From [speech processing tutorial](https://haythamfayek.com/2016/04/21/speech-processing-for-machine-learning.html)"
   ]
  },
  {
   "cell_type": "markdown",
   "id": "champion-pulse",
   "metadata": {},
   "source": [
    "- ``Mel-Frequency Cepstral Coefficients (MFCCs), filter banks``\n",
    "- **Steps:**\n",
    "    * Pre-emphasis filter\n",
    "    * Sliced into frames and a window is applied to each frame\n",
    "    * Fourier transform on each frame (Short-Time Fourier Transform) $\\Rightarrow$ Calculate the power spectrum\n",
    "    * Compute **filter banks**\n",
    "- **For MFCCs**\n",
    "    * Apply Discrete Cosine Transform (DCT) to the filter banks $\\Rightarrow$ Retain a number of the resulting coefficients (discard the rest)\n",
    "- The final step in both cases: **``mean normalization``**"
   ]
  },
  {
   "cell_type": "code",
   "execution_count": 8,
   "id": "viral-testimony",
   "metadata": {},
   "outputs": [
    {
     "name": "stderr",
     "output_type": "stream",
     "text": [
      "/home/thanhpv21/.local/lib/python3.7/site-packages/numba/core/errors.py:154: UserWarning: Insufficiently recent colorama version found. Numba requires colorama >= 0.3.9\n",
      "  warnings.warn(msg)\n"
     ]
    }
   ],
   "source": [
    "import numpy as np\n",
    "import scipy.io.wavfile\n",
    "import librosa\n",
    "from scipy.fftpack import dct"
   ]
  },
  {
   "cell_type": "code",
   "execution_count": 9,
   "id": "searching-suicide",
   "metadata": {},
   "outputs": [],
   "source": [
    "audio_pth = './audio/SA1.WAV'"
   ]
  },
  {
   "cell_type": "code",
   "execution_count": 11,
   "id": "aquatic-legislature",
   "metadata": {},
   "outputs": [],
   "source": [
    "signal, sr = librosa.load(audio_pth)"
   ]
  },
  {
   "cell_type": "code",
   "execution_count": 13,
   "id": "aerial-airplane",
   "metadata": {},
   "outputs": [
    {
     "data": {
      "text/plain": [
       "(22050, (64493,))"
      ]
     },
     "execution_count": 13,
     "metadata": {},
     "output_type": "execute_result"
    }
   ],
   "source": [
    "sr, signal.shape"
   ]
  },
  {
   "cell_type": "markdown",
   "id": "experimental-master",
   "metadata": {},
   "source": [
    "## Pre-Emphasis"
   ]
  },
  {
   "cell_type": "code",
   "execution_count": null,
   "id": "classical-response",
   "metadata": {},
   "outputs": [],
   "source": []
  },
  {
   "cell_type": "code",
   "execution_count": null,
   "id": "desirable-yesterday",
   "metadata": {},
   "outputs": [],
   "source": []
  },
  {
   "cell_type": "code",
   "execution_count": null,
   "id": "naval-headset",
   "metadata": {},
   "outputs": [],
   "source": []
  }
 ],
 "metadata": {
  "kernelspec": {
   "display_name": "Python 3",
   "language": "python",
   "name": "python3"
  },
  "language_info": {
   "codemirror_mode": {
    "name": "ipython",
    "version": 3
   },
   "file_extension": ".py",
   "mimetype": "text/x-python",
   "name": "python",
   "nbconvert_exporter": "python",
   "pygments_lexer": "ipython3",
   "version": "3.7.10"
  }
 },
 "nbformat": 4,
 "nbformat_minor": 5
}
